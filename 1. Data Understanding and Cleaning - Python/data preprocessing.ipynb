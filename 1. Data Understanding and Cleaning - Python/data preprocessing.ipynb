{
 "cells": [
  {
   "cell_type": "markdown",
   "metadata": {},
   "source": [
    "# Data Preprocessing for Supply Chain Analysis"
   ]
  },
  {
   "cell_type": "code",
   "execution_count": 1,
   "metadata": {},
   "outputs": [],
   "source": [
    "import pandas as pd"
   ]
  },
  {
   "cell_type": "code",
   "execution_count": 3,
   "metadata": {},
   "outputs": [],
   "source": [
    "# Load datasets\n",
    "supply_chain = pd.read_csv(r\"C:\\DA\\Projects\\Supply Chain & Sales Analytics System\\Raw Data\\DataCoSupplyChainDataset.csv\", encoding=\"ISO-8859-1\")\n",
    "description = pd.read_csv(r\"C:\\DA\\Projects\\Supply Chain & Sales Analytics System\\Raw Data\\DescriptionDataCoSupplyChain.csv\", encoding=\"ISO-8859-1\")\n",
    "access_logs = pd.read_csv(r\"C:\\DA\\Projects\\Supply Chain & Sales Analytics System\\Raw Data\\tokenized_access_logs.csv\", encoding=\"ISO-8859-1\")"
   ]
  },
  {
   "cell_type": "code",
   "execution_count": 4,
   "metadata": {},
   "outputs": [],
   "source": [
    "# Standardizing column names (lowercase & replacing spaces with underscores)\n",
    "def standardize_columns(df):\n",
    "    df.columns = df.columns.str.lower().str.replace(\" \", \"_\").str.replace(r\"[()]\", \"\", regex=True)\n",
    "    return df\n",
    "\n",
    "supply_chain = standardize_columns(supply_chain)\n",
    "description = standardize_columns(description)\n",
    "access_logs = standardize_columns(access_logs)"
   ]
  },
  {
   "cell_type": "code",
   "execution_count": 10,
   "metadata": {},
   "outputs": [
    {
     "name": "stdout",
     "output_type": "stream",
     "text": [
      "Info about supply chain:\n",
      "<class 'pandas.core.frame.DataFrame'>\n",
      "RangeIndex: 180519 entries, 0 to 180518\n",
      "Data columns (total 53 columns):\n",
      " #   Column                       Non-Null Count   Dtype  \n",
      "---  ------                       --------------   -----  \n",
      " 0   type                         180519 non-null  object \n",
      " 1   days_for_shipping_real       180519 non-null  int64  \n",
      " 2   days_for_shipment_scheduled  180519 non-null  int64  \n",
      " 3   benefit_per_order            180519 non-null  float64\n",
      " 4   sales_per_customer           180519 non-null  float64\n",
      " 5   delivery_status              180519 non-null  object \n",
      " 6   late_delivery_risk           180519 non-null  int64  \n",
      " 7   category_id                  180519 non-null  int64  \n",
      " 8   category_name                180519 non-null  object \n",
      " 9   customer_city                180519 non-null  object \n",
      " 10  customer_country             180519 non-null  object \n",
      " 11  customer_email               180519 non-null  object \n",
      " 12  customer_fname               180519 non-null  object \n",
      " 13  customer_id                  180519 non-null  int64  \n",
      " 14  customer_lname               180511 non-null  object \n",
      " 15  customer_password            180519 non-null  object \n",
      " 16  customer_segment             180519 non-null  object \n",
      " 17  customer_state               180519 non-null  object \n",
      " 18  customer_street              180519 non-null  object \n",
      " 19  customer_zipcode             180516 non-null  float64\n",
      " 20  department_id                180519 non-null  int64  \n",
      " 21  department_name              180519 non-null  object \n",
      " 22  latitude                     180519 non-null  float64\n",
      " 23  longitude                    180519 non-null  float64\n",
      " 24  market                       180519 non-null  object \n",
      " 25  order_city                   180519 non-null  object \n",
      " 26  order_country                180519 non-null  object \n",
      " 27  order_customer_id            180519 non-null  int64  \n",
      " 28  order_date_dateorders        180519 non-null  object \n",
      " 29  order_id                     180519 non-null  int64  \n",
      " 30  order_item_cardprod_id       180519 non-null  int64  \n",
      " 31  order_item_discount          180519 non-null  float64\n",
      " 32  order_item_discount_rate     180519 non-null  float64\n",
      " 33  order_item_id                180519 non-null  int64  \n",
      " 34  order_item_product_price     180519 non-null  float64\n",
      " 35  order_item_profit_ratio      180519 non-null  float64\n",
      " 36  order_item_quantity          180519 non-null  int64  \n",
      " 37  sales                        180519 non-null  float64\n",
      " 38  order_item_total             180519 non-null  float64\n",
      " 39  order_profit_per_order       180519 non-null  float64\n",
      " 40  order_region                 180519 non-null  object \n",
      " 41  order_state                  180519 non-null  object \n",
      " 42  order_status                 180519 non-null  object \n",
      " 43  order_zipcode                24840 non-null   float64\n",
      " 44  product_card_id              180519 non-null  int64  \n",
      " 45  product_category_id          180519 non-null  int64  \n",
      " 46  product_description          0 non-null       float64\n",
      " 47  product_image                180519 non-null  object \n",
      " 48  product_name                 180519 non-null  object \n",
      " 49  product_price                180519 non-null  float64\n",
      " 50  product_status               180519 non-null  int64  \n",
      " 51  shipping_date_dateorders     180519 non-null  object \n",
      " 52  shipping_mode                180519 non-null  object \n",
      "dtypes: float64(15), int64(14), object(24)\n",
      "memory usage: 73.0+ MB\n",
      "\n",
      "Info about supply chain description:\n",
      "<class 'pandas.core.frame.DataFrame'>\n",
      "RangeIndex: 52 entries, 0 to 51\n",
      "Data columns (total 2 columns):\n",
      " #   Column       Non-Null Count  Dtype \n",
      "---  ------       --------------  ----- \n",
      " 0   fields       52 non-null     object\n",
      " 1   description  52 non-null     object\n",
      "dtypes: object(2)\n",
      "memory usage: 964.0+ bytes\n",
      "\n",
      "Info about access logs:\n",
      "<class 'pandas.core.frame.DataFrame'>\n",
      "RangeIndex: 469977 entries, 0 to 469976\n",
      "Data columns (total 8 columns):\n",
      " #   Column      Non-Null Count   Dtype \n",
      "---  ------      --------------   ----- \n",
      " 0   product     469977 non-null  object\n",
      " 1   category    469977 non-null  object\n",
      " 2   date        469977 non-null  object\n",
      " 3   month       469977 non-null  object\n",
      " 4   hour        469977 non-null  int64 \n",
      " 5   department  469977 non-null  object\n",
      " 6   ip          469977 non-null  object\n",
      " 7   url         469977 non-null  object\n",
      "dtypes: int64(1), object(7)\n",
      "memory usage: 28.7+ MB\n"
     ]
    },
    {
     "data": {
      "text/plain": [
       "(None, None, None)"
      ]
     },
     "execution_count": 10,
     "metadata": {},
     "output_type": "execute_result"
    }
   ],
   "source": [
    "# Display basic info about each dataset\n",
    "print (\"Info about supply chain:\")\n",
    "supply_chain_info = supply_chain.info()\n",
    "print (\"\\nInfo about supply chain description:\")\n",
    "description_info = description.info()\n",
    "print (\"\\nInfo about access logs:\")\n",
    "access_logs_info = access_logs.info()\n",
    "\n",
    "supply_chain_info, description_info, access_logs_info"
   ]
  },
  {
   "cell_type": "code",
   "execution_count": 15,
   "metadata": {},
   "outputs": [
    {
     "name": "stdout",
     "output_type": "stream",
     "text": [
      "\n",
      "Missing Values in Supply Chain Dataset:\n",
      "type                           0\n",
      "days_for_shipping_real         0\n",
      "days_for_shipment_scheduled    0\n",
      "benefit_per_order              0\n",
      "sales_per_customer             0\n",
      "delivery_status                0\n",
      "late_delivery_risk             0\n",
      "category_id                    0\n",
      "category_name                  0\n",
      "customer_city                  0\n",
      "customer_country               0\n",
      "customer_email                 0\n",
      "customer_fname                 0\n",
      "customer_id                    0\n",
      "customer_lname                 8\n",
      "customer_password              0\n",
      "customer_segment               0\n",
      "customer_state                 0\n",
      "customer_street                0\n",
      "customer_zipcode               0\n",
      "department_id                  0\n",
      "department_name                0\n",
      "latitude                       0\n",
      "longitude                      0\n",
      "market                         0\n",
      "order_city                     0\n",
      "order_country                  0\n",
      "order_customer_id              0\n",
      "order_date_dateorders          0\n",
      "order_id                       0\n",
      "order_item_cardprod_id         0\n",
      "order_item_discount            0\n",
      "order_item_discount_rate       0\n",
      "order_item_id                  0\n",
      "order_item_product_price       0\n",
      "order_item_profit_ratio        0\n",
      "order_item_quantity            0\n",
      "sales                          0\n",
      "order_item_total               0\n",
      "order_profit_per_order         0\n",
      "order_region                   0\n",
      "order_state                    0\n",
      "order_status                   0\n",
      "order_zipcode                  0\n",
      "product_card_id                0\n",
      "product_category_id            0\n",
      "product_image                  0\n",
      "product_name                   0\n",
      "product_price                  0\n",
      "product_status                 0\n",
      "shipping_date_dateorders       0\n",
      "shipping_mode                  0\n",
      "dtype: int64\n",
      "\n",
      "Missing Values in Description Dataset:\n",
      "fields         0\n",
      "description    0\n",
      "dtype: int64\n",
      "\n",
      "Missing Values in Access Logs Dataset:\n",
      "product       0\n",
      "category      0\n",
      "date          0\n",
      "month         0\n",
      "hour          0\n",
      "department    0\n",
      "ip            0\n",
      "url           0\n",
      "dtype: int64\n"
     ]
    }
   ],
   "source": [
    "# Checking for missing values\n",
    "print(\"\\nMissing Values in Supply Chain Dataset:\")\n",
    "print(supply_chain.isnull().sum())\n",
    "print(\"\\nMissing Values in Description Dataset:\")\n",
    "print(description.isnull().sum())\n",
    "print(\"\\nMissing Values in Access Logs Dataset:\")\n",
    "print(access_logs.isnull().sum())"
   ]
  },
  {
   "cell_type": "code",
   "execution_count": 16,
   "metadata": {},
   "outputs": [
    {
     "name": "stdout",
     "output_type": "stream",
     "text": [
      "\n",
      "Duplicate Rows in Supply Chain Dataset: 0\n",
      "Duplicate Rows in Description Dataset: 0\n",
      "Duplicate Rows in Access Logs Dataset: 3249\n"
     ]
    }
   ],
   "source": [
    "# Checking for duplicate entries\n",
    "print(\"\\nDuplicate Rows in Supply Chain Dataset:\", supply_chain.duplicated().sum())\n",
    "print(\"Duplicate Rows in Description Dataset:\", description.duplicated().sum())\n",
    "print(\"Duplicate Rows in Access Logs Dataset:\", access_logs.duplicated().sum())"
   ]
  },
  {
   "cell_type": "code",
   "execution_count": 12,
   "metadata": {},
   "outputs": [],
   "source": [
    "# Convert date columns to datetime format\n",
    "supply_chain[\"order_date_dateorders\"] = pd.to_datetime(supply_chain[\"order_date_dateorders\"], errors=\"coerce\")\n",
    "supply_chain[\"shipping_date_dateorders\"] = pd.to_datetime(supply_chain[\"shipping_date_dateorders\"], errors=\"coerce\")\n",
    "\n",
    "# Convert numeric columns with incorrect data types\n",
    "supply_chain[\"customer_zipcode\"] = supply_chain[\"customer_zipcode\"].fillna(-1).astype(int)\n",
    "supply_chain[\"order_zipcode\"] = supply_chain[\"order_zipcode\"].fillna(-1).astype(int)\n",
    "\n",
    "# Drop the 'Product Description' column since it contains no data\n",
    "supply_chain.drop(columns=[\"product_description\"], inplace=True, errors=\"ignore\")\n"
   ]
  },
  {
   "cell_type": "code",
   "execution_count": 18,
   "metadata": {},
   "outputs": [],
   "source": [
    "# Convert 'Date' column to datetime format\n",
    "access_logs[\"date\"] = pd.to_datetime(access_logs[\"date\"], errors=\"coerce\")\n",
    "\n",
    "# Convert 'Hour' column to integer (if not already)\n",
    "access_logs[\"hour\"] = access_logs[\"hour\"].astype(int)\n",
    "\n",
    "access_logs = access_logs.drop_duplicates()\n"
   ]
  },
  {
   "cell_type": "code",
   "execution_count": 19,
   "metadata": {},
   "outputs": [
    {
     "name": "stdout",
     "output_type": "stream",
     "text": [
      "Info about supply chain:\n",
      "<class 'pandas.core.frame.DataFrame'>\n",
      "RangeIndex: 180519 entries, 0 to 180518\n",
      "Data columns (total 52 columns):\n",
      " #   Column                       Non-Null Count   Dtype         \n",
      "---  ------                       --------------   -----         \n",
      " 0   type                         180519 non-null  object        \n",
      " 1   days_for_shipping_real       180519 non-null  int64         \n",
      " 2   days_for_shipment_scheduled  180519 non-null  int64         \n",
      " 3   benefit_per_order            180519 non-null  float64       \n",
      " 4   sales_per_customer           180519 non-null  float64       \n",
      " 5   delivery_status              180519 non-null  object        \n",
      " 6   late_delivery_risk           180519 non-null  int64         \n",
      " 7   category_id                  180519 non-null  int64         \n",
      " 8   category_name                180519 non-null  object        \n",
      " 9   customer_city                180519 non-null  object        \n",
      " 10  customer_country             180519 non-null  object        \n",
      " 11  customer_email               180519 non-null  object        \n",
      " 12  customer_fname               180519 non-null  object        \n",
      " 13  customer_id                  180519 non-null  int64         \n",
      " 14  customer_lname               180511 non-null  object        \n",
      " 15  customer_password            180519 non-null  object        \n",
      " 16  customer_segment             180519 non-null  object        \n",
      " 17  customer_state               180519 non-null  object        \n",
      " 18  customer_street              180519 non-null  object        \n",
      " 19  customer_zipcode             180519 non-null  int64         \n",
      " 20  department_id                180519 non-null  int64         \n",
      " 21  department_name              180519 non-null  object        \n",
      " 22  latitude                     180519 non-null  float64       \n",
      " 23  longitude                    180519 non-null  float64       \n",
      " 24  market                       180519 non-null  object        \n",
      " 25  order_city                   180519 non-null  object        \n",
      " 26  order_country                180519 non-null  object        \n",
      " 27  order_customer_id            180519 non-null  int64         \n",
      " 28  order_date_dateorders        180519 non-null  datetime64[ns]\n",
      " 29  order_id                     180519 non-null  int64         \n",
      " 30  order_item_cardprod_id       180519 non-null  int64         \n",
      " 31  order_item_discount          180519 non-null  float64       \n",
      " 32  order_item_discount_rate     180519 non-null  float64       \n",
      " 33  order_item_id                180519 non-null  int64         \n",
      " 34  order_item_product_price     180519 non-null  float64       \n",
      " 35  order_item_profit_ratio      180519 non-null  float64       \n",
      " 36  order_item_quantity          180519 non-null  int64         \n",
      " 37  sales                        180519 non-null  float64       \n",
      " 38  order_item_total             180519 non-null  float64       \n",
      " 39  order_profit_per_order       180519 non-null  float64       \n",
      " 40  order_region                 180519 non-null  object        \n",
      " 41  order_state                  180519 non-null  object        \n",
      " 42  order_status                 180519 non-null  object        \n",
      " 43  order_zipcode                180519 non-null  int64         \n",
      " 44  product_card_id              180519 non-null  int64         \n",
      " 45  product_category_id          180519 non-null  int64         \n",
      " 46  product_image                180519 non-null  object        \n",
      " 47  product_name                 180519 non-null  object        \n",
      " 48  product_price                180519 non-null  float64       \n",
      " 49  product_status               180519 non-null  int64         \n",
      " 50  shipping_date_dateorders     180519 non-null  datetime64[ns]\n",
      " 51  shipping_mode                180519 non-null  object        \n",
      "dtypes: datetime64[ns](2), float64(12), int64(16), object(22)\n",
      "memory usage: 71.6+ MB\n",
      "\n",
      "Info about supply chain description:\n",
      "<class 'pandas.core.frame.DataFrame'>\n",
      "RangeIndex: 52 entries, 0 to 51\n",
      "Data columns (total 2 columns):\n",
      " #   Column       Non-Null Count  Dtype \n",
      "---  ------       --------------  ----- \n",
      " 0   fields       52 non-null     object\n",
      " 1   description  52 non-null     object\n",
      "dtypes: object(2)\n",
      "memory usage: 964.0+ bytes\n",
      "\n",
      "Info about access logs:\n",
      "<class 'pandas.core.frame.DataFrame'>\n",
      "Index: 466728 entries, 0 to 469976\n",
      "Data columns (total 8 columns):\n",
      " #   Column      Non-Null Count   Dtype         \n",
      "---  ------      --------------   -----         \n",
      " 0   product     466728 non-null  object        \n",
      " 1   category    466728 non-null  object        \n",
      " 2   date        466728 non-null  datetime64[ns]\n",
      " 3   month       466728 non-null  object        \n",
      " 4   hour        466728 non-null  int64         \n",
      " 5   department  466728 non-null  object        \n",
      " 6   ip          466728 non-null  object        \n",
      " 7   url         466728 non-null  object        \n",
      "dtypes: datetime64[ns](1), int64(1), object(6)\n",
      "memory usage: 32.0+ MB\n"
     ]
    }
   ],
   "source": [
    "# Display basic info about each dataset\n",
    "print (\"Info about supply chain:\")\n",
    "supply_chain_info = supply_chain.info()\n",
    "print (\"\\nInfo about supply chain description:\")\n",
    "description_info = description.info()\n",
    "print (\"\\nInfo about access logs:\")\n",
    "access_logs_info = access_logs.info()"
   ]
  },
  {
   "cell_type": "code",
   "execution_count": 20,
   "metadata": {},
   "outputs": [
    {
     "name": "stdout",
     "output_type": "stream",
     "text": [
      "\n",
      "Duplicate Rows in Supply Chain Dataset: 0\n",
      "Duplicate Rows in Description Dataset: 0\n",
      "Duplicate Rows in Access Logs Dataset: 0\n"
     ]
    }
   ],
   "source": [
    "# Checking for duplicate entries\n",
    "print(\"\\nDuplicate Rows in Supply Chain Dataset:\", supply_chain.duplicated().sum())\n",
    "print(\"Duplicate Rows in Description Dataset:\", description.duplicated().sum())\n",
    "print(\"Duplicate Rows in Access Logs Dataset:\", access_logs.duplicated().sum())"
   ]
  },
  {
   "cell_type": "code",
   "execution_count": 21,
   "metadata": {},
   "outputs": [
    {
     "name": "stdout",
     "output_type": "stream",
     "text": [
      "Preprocessed data saved successfully.\n"
     ]
    }
   ],
   "source": [
    "# Export cleaned datasets to CSV for SQL ingestion\n",
    "supply_chain.to_csv(\"cleaned_supply_chain.csv\", index=False)\n",
    "access_logs.to_csv(\"cleaned_access_logs.csv\", index=False)\n",
    "description.to_csv(\"cleaned_description.csv\", index=False)\n",
    "\n",
    "print(\"Preprocessed data saved successfully.\")"
   ]
  },
  {
   "cell_type": "code",
   "execution_count": null,
   "metadata": {},
   "outputs": [],
   "source": [
    "# Extracting tables from the cleaned data\n",
    "customers = supply_chain[[\n",
    "    \"order_customer_id\", \"customer_fname\", \"customer_lname\",\n",
    "    \"customer_email\", \"customer_segment\", \"order_city\",\n",
    "    \"order_state\", \"order_country\", \"order_zipcode\"\n",
    "]].drop_duplicates().rename(columns={\"order_customer_id\": \"customer_id\"})"
   ]
  },
  {
   "cell_type": "code",
   "execution_count": null,
   "metadata": {},
   "outputs": [],
   "source": [
    "orders = supply_chain[[\n",
    "    \"order_id\", \"order_date_dateorders\", \"order_customer_id\",\n",
    "    \"order_status\", \"order_region\", \"order_state\",\n",
    "    \"sales\", \"order_profit_per_order\", \"order_item_total\",\n",
    "    \"order_zipcode\"\n",
    "]].drop_duplicates().rename(columns={\"order_date_dateorders\": \"order_date\"})"
   ]
  },
  {
   "cell_type": "code",
   "execution_count": null,
   "metadata": {},
   "outputs": [],
   "source": [
    "order_items = supply_chain[[\n",
    "    \"order_item_id\", \"order_id\", \"order_item_cardprod_id\",\n",
    "    \"order_item_quantity\", \"order_item_product_price\",\n",
    "    \"order_item_discount\", \"order_item_discount_rate\",\n",
    "    \"order_item_profit_ratio\"\n",
    "]].drop_duplicates().rename(columns={\"order_item_cardprod_id\": \"product_id\"})"
   ]
  },
  {
   "cell_type": "code",
   "execution_count": null,
   "metadata": {},
   "outputs": [],
   "source": [
    "products = supply_chain[[\n",
    "    \"order_item_cardprod_id\", \"product_name\",\n",
    "    \"product_category_id\", \"order_item_product_price\"\n",
    "]].drop_duplicates().rename(columns={\"order_item_cardprod_id\": \"product_id\",\n",
    "                                     \"order_item_product_price\": \"product_price\"})"
   ]
  },
  {
   "cell_type": "code",
   "execution_count": null,
   "metadata": {},
   "outputs": [],
   "source": [
    "categories = supply_chain[[\n",
    "    \"product_category_id\", \"category_name\",\n",
    "    \"department_id\"\n",
    "]].drop_duplicates()"
   ]
  },
  {
   "cell_type": "code",
   "execution_count": 34,
   "metadata": {},
   "outputs": [],
   "source": [
    "departments = supply_chain[[\n",
    "    \"department_id\", \"department_name\"\n",
    "]].drop_duplicates()\n"
   ]
  },
  {
   "cell_type": "code",
   "execution_count": 36,
   "metadata": {},
   "outputs": [],
   "source": [
    "shipping = supply_chain[[\n",
    "    \"order_id\", \"shipping_mode\", \"shipping_date_dateorders\",\n",
    "    \"days_for_shipping_real\", \"days_for_shipment_scheduled\",\n",
    "    \"delivery_status\", \"late_delivery_risk\"\n",
    "]].drop_duplicates().reset_index(drop=True).rename(columns={\"index\": \"shipping_id\"})\n"
   ]
  },
  {
   "cell_type": "code",
   "execution_count": 39,
   "metadata": {},
   "outputs": [],
   "source": [
    "website_traffic = supply_chain[[\n",
    "    \"product_card_id\",\n",
    "    \"product_category_id\",\n",
    "    \"order_date_dateorders\",\n",
    "    \"order_region\",\n",
    "    \"order_state\"\n",
    "]].drop_duplicates().rename(columns={\"order_date_dateorders\": \"date\", \"order_region\": \"department\"})\n"
   ]
  },
  {
   "cell_type": "code",
   "execution_count": 40,
   "metadata": {},
   "outputs": [],
   "source": [
    "returns = supply_chain[[\n",
    "    \"order_id\", \"order_item_cardprod_id\",\n",
    "    \"order_item_discount\"\n",
    "]].drop_duplicates().rename(columns={\"order_item_cardprod_id\": \"product_id\",\n",
    "                                     \"order_item_discount\": \"refund_amount\"}).reset_index(drop=True).reset_index().rename(columns={\"index\": \"return_id\"})\n"
   ]
  },
  {
   "cell_type": "code",
   "execution_count": 41,
   "metadata": {},
   "outputs": [],
   "source": [
    "discounts = supply_chain[[\n",
    "    \"order_item_cardprod_id\", \"order_id\",\n",
    "    \"order_item_discount_rate\", \"order_item_discount\"\n",
    "]].drop_duplicates().rename(columns={\"order_item_cardprod_id\": \"product_id\",\n",
    "                                     \"order_item_discount_rate\": \"discount_percentage\",\n",
    "                                     \"order_item_discount\": \"discount_amount\"}).reset_index(drop=True).reset_index().rename(columns={\"index\": \"discount_id\"})\n"
   ]
  },
  {
   "cell_type": "code",
   "execution_count": 46,
   "metadata": {},
   "outputs": [
    {
     "name": "stdout",
     "output_type": "stream",
     "text": [
      "✅ Saved customers.csv successfully!\n",
      "✅ Saved orders.csv successfully!\n",
      "✅ Saved order_items.csv successfully!\n",
      "✅ Saved products.csv successfully!\n",
      "✅ Saved categories.csv successfully!\n",
      "✅ Saved departments.csv successfully!\n",
      "✅ Saved shipping.csv successfully!\n",
      "✅ Saved returns.csv successfully!\n",
      "✅ Saved discounts.csv successfully!\n",
      "✅ Saved website_traffic.csv successfully!\n"
     ]
    }
   ],
   "source": [
    "# Save all tables as CSV files\n",
    "tables = {\n",
    "    \"customers\": customers,\n",
    "    \"orders\": orders,\n",
    "    \"order_items\": order_items,\n",
    "    \"products\": products,\n",
    "    \"categories\": categories,\n",
    "    \"departments\": departments,\n",
    "    \"shipping\": shipping,\n",
    "    \"returns\": returns,\n",
    "    \"discounts\": discounts,\n",
    "    \"website_traffic\": website_traffic,\n",
    "}\n",
    "\n",
    "for name, df in tables.items():\n",
    "    df.to_csv(f\"{name}.csv\", index=False)\n",
    "    print(f\"✅ Saved {name}.csv successfully!\")\n"
   ]
  }
 ],
 "metadata": {
  "kernelspec": {
   "display_name": "python_project",
   "language": "python",
   "name": "python3"
  },
  "language_info": {
   "codemirror_mode": {
    "name": "ipython",
    "version": 3
   },
   "file_extension": ".py",
   "mimetype": "text/x-python",
   "name": "python",
   "nbconvert_exporter": "python",
   "pygments_lexer": "ipython3",
   "version": "3.11.11"
  }
 },
 "nbformat": 4,
 "nbformat_minor": 2
}
